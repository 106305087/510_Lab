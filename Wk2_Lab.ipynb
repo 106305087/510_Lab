{
 "cells": [
  {
   "cell_type": "code",
   "execution_count": 1,
   "metadata": {},
   "outputs": [],
   "source": [
    "import requests\n",
    "from bs4 import BeautifulSoup\n",
    "import time\n",
    "import numpydd"
   ]
  },
  {
   "cell_type": "markdown",
   "metadata": {},
   "source": [
    "## Scraping Event Page"
   ]
  },
  {
   "cell_type": "code",
   "execution_count": 2,
   "metadata": {},
   "outputs": [],
   "source": [
    "## Store in the list\n",
    "base_url = 'https://visitseattle.org/events/page/'\n",
    "detail_links = [] \n",
    "\n",
    "for i in range(1, 42):\n",
    "    url = base_url + str(i)\n",
    "    res = requests.get(url)\n",
    "    soup = BeautifulSoup(res.text, 'html.parser')\n",
    "\n",
    "    selector = 'div.search-result-preview > div > h3 > a'\n",
    "    detail_eles = soup.select(selector)\n",
    "    # detail_list.append([x['href'] for x in detail_eles])\n",
    "    for ele in detail_eles:\n",
    "        detail_links.append(ele['href'])"
   ]
  },
  {
   "cell_type": "code",
   "execution_count": 3,
   "metadata": {},
   "outputs": [],
   "source": [
    "# save the detail_links into pickle\n",
    "import pickle\n",
    "with open('detail_links.pkl', 'wb') as f:\n",
    "    pickle.dump(detail_links, f)\n",
    "# read the pickle\n",
    "with open('detail_links.pkl', 'rb') as f:\n",
    "    detail_links = pickle.load(f)"
   ]
  },
  {
   "cell_type": "code",
   "execution_count": 4,
   "metadata": {},
   "outputs": [
    {
     "name": "stdout",
     "output_type": "stream",
     "text": [
      "https://visitseattle.org/events/john-cole-peter-de-lory/\n",
      "https://visitseattle.org/events/the-puppet-masters-making-fools-of-us-all/\n",
      "https://visitseattle.org/events/whim-whim-winter-24/\n",
      "https://visitseattle.org/events/compania-nacional-de-danza/\n",
      "https://visitseattle.org/events/metropolis/\n",
      "https://visitseattle.org/events/andy-coe-band/\n",
      "https://visitseattle.org/events/align/\n",
      "https://visitseattle.org/events/billy-idol-and-duran-duran-tribute-night/\n",
      "https://visitseattle.org/events/crack-sabbath/\n",
      "https://visitseattle.org/events/harlem-globetrotters/\n",
      "https://visitseattle.org/events/inked-up-conversation-with-john-ellis/\n",
      "https://visitseattle.org/events/jukebox-quartet-arcobaleno-strings/\n",
      "https://visitseattle.org/events/pike-place-market-local-appreciation-day/\n",
      "https://visitseattle.org/events/seattle-baroque-orchestra-party-bohemienne/\n",
      "https://visitseattle.org/events/seattle-thunderbirds-vs-everett-silvertips-2/\n",
      "https://visitseattle.org/events/the-budos-band/\n",
      "https://visitseattle.org/events/the-human-family/\n",
      "https://visitseattle.org/events/steinunn-porarinsdottir-wayfinders/\n",
      "https://visitseattle.org/events/hanako-oleary-izanami/\n",
      "https://visitseattle.org/events/gage-alumni-show/\n",
      "https://visitseattle.org/events/genre-box/\n",
      "https://visitseattle.org/events/bohemia/\n",
      "https://visitseattle.org/events/alice-in-shadowland/\n",
      "https://visitseattle.org/events/lee-ritenour-and-dave-grusin/\n",
      "https://visitseattle.org/events/tacoma-home-garden-show/\n",
      "https://visitseattle.org/events/annie-eastwood-with-kimball-and-the-fugitives/\n",
      "https://visitseattle.org/events/black-and-boujee-panel-discussion/\n",
      "https://visitseattle.org/events/celebrate-asia/\n",
      "https://visitseattle.org/events/djangos-birthday-concert-with-ranger-and-the-re-arrangers/\n",
      "https://visitseattle.org/events/family-day-with-birds-connect-seattle/\n",
      "https://visitseattle.org/events/fossil-finders-ice-ages/\n",
      "https://visitseattle.org/events/seattle-kraken-vs-columbus-blue-jackets/\n",
      "https://visitseattle.org/events/tacoma-stars-vs-san-diego-sockers-3/\n",
      "https://visitseattle.org/events/adira-sharkey/\n",
      "https://visitseattle.org/events/car-the-garden/\n",
      "https://visitseattle.org/events/walla-walla-wine-on-tour/\n",
      "https://visitseattle.org/events/cheryl-wheeler/\n",
      "https://visitseattle.org/events/giantish/\n",
      "https://visitseattle.org/events/seattle-thunderbirds-vs-prince-george-cougars-2/\n",
      "https://visitseattle.org/events/a-political-rocks/\n",
      "https://visitseattle.org/events/sophia-al-maria/\n",
      "https://visitseattle.org/events/jahari-stampley/\n",
      "https://visitseattle.org/events/fraktured-home-of-the-broken-beat/\n",
      "https://visitseattle.org/events/g3-25th-anniversary-reunion/\n",
      "https://visitseattle.org/events/jp-saxe/\n",
      "https://visitseattle.org/events/los-lobos/\n",
      "https://visitseattle.org/events/the-daimonics/\n",
      "https://visitseattle.org/events/babytron/\n",
      "https://visitseattle.org/events/battlestar-kalakala/\n",
      "https://visitseattle.org/events/catalyzing-change-with-akuyea-karen-vargas/\n",
      "https://visitseattle.org/events/exceptional-failures/\n",
      "https://visitseattle.org/events/jamila-woods/\n",
      "https://visitseattle.org/events/jazz-is-dead-blue-note-85/\n",
      "https://visitseattle.org/events/michelle-cann/\n",
      "https://visitseattle.org/events/pakt/\n",
      "https://visitseattle.org/events/public-theatre/\n",
      "https://visitseattle.org/events/american-flats-album-release/\n",
      "https://visitseattle.org/events/erik-walters/\n",
      "https://visitseattle.org/events/memoir/\n",
      "https://visitseattle.org/events/nora-en-pure/\n",
      "https://visitseattle.org/events/poolside/\n",
      "https://visitseattle.org/events/tacoma-stars-vs-monterrey-flash/\n",
      "https://visitseattle.org/events/jaha-koo-the-history-of-korean-western-theatre/\n",
      "https://visitseattle.org/events/the-winds-medley-of-emotions/\n",
      "https://visitseattle.org/events/all-will-suffer/\n",
      "https://visitseattle.org/events/banned-beloved/\n",
      "https://visitseattle.org/events/cold-war-kids-20-years-tour/\n",
      "https://visitseattle.org/events/mau-p/\n",
      "https://visitseattle.org/events/oble/\n",
      "https://visitseattle.org/events/randy-rainbow-for-president/\n",
      "https://visitseattle.org/events/the-delta-bombers/\n",
      "https://visitseattle.org/events/the-grave-plot-film-fest-part-6/\n",
      "https://visitseattle.org/events/seattle-chamber-music-winter-festival/\n",
      "https://visitseattle.org/events/beethoven-emperor-concerto/\n",
      "https://visitseattle.org/events/sergio-mendes/\n",
      "https://visitseattle.org/events/daniel-tigers-neighborhood/\n",
      "https://visitseattle.org/events/family-art-day-la-vaughn-belle/\n",
      "https://visitseattle.org/events/lil-skies/\n",
      "https://visitseattle.org/events/secular-and-sacred/\n",
      "https://visitseattle.org/events/criminal/\n",
      "https://visitseattle.org/events/neck-deep/\n",
      "https://visitseattle.org/events/kazu-kibuishi-with-donna-barba-higuera/\n",
      "https://visitseattle.org/events/kristin-hannah/\n",
      "https://visitseattle.org/events/michael-j-gerhardt/\n",
      "https://visitseattle.org/events/night-lovell/\n",
      "https://visitseattle.org/events/soja/\n",
      "https://visitseattle.org/events/kenny-barron-trio/\n",
      "https://visitseattle.org/events/dimiter/\n",
      "https://visitseattle.org/events/tamara-payne-the-life-and-legacy-of-malcolm-x/\n",
      "https://visitseattle.org/events/the-kills/\n",
      "https://visitseattle.org/events/an-evening-with-tina-campt-black-feminist-visual-culture/\n",
      "https://visitseattle.org/events/art-and-transformation/\n",
      "https://visitseattle.org/events/eric-bellinger/\n",
      "https://visitseattle.org/events/futurebirds-and-nude-party/\n",
      "https://visitseattle.org/events/ilana-glazer-live/\n",
      "https://visitseattle.org/events/mister-blank/\n",
      "https://visitseattle.org/events/the-thorn/\n",
      "https://visitseattle.org/events/barry-cant-swim/\n",
      "https://visitseattle.org/events/dark-star-orchestra/\n",
      "https://visitseattle.org/events/govt-mule/\n",
      "https://visitseattle.org/events/ijeoma-oluo-be-a-revolution/\n",
      "https://visitseattle.org/events/mayer-hawthorne/\n",
      "https://visitseattle.org/events/moontricks/\n",
      "https://visitseattle.org/events/oboe-oboe/\n",
      "https://visitseattle.org/events/roots-and-wings/\n",
      "https://visitseattle.org/events/seattle-boat-show/\n",
      "https://visitseattle.org/events/randall-goosby-plays-mozart/\n",
      "https://visitseattle.org/events/art-by-design/\n",
      "https://visitseattle.org/events/the-love-show/\n",
      "https://visitseattle.org/events/brazilian-carnaval-2024/\n",
      "https://visitseattle.org/events/chase-rice/\n",
      "https://visitseattle.org/events/joe-mr-d-dombrowski/\n",
      "https://visitseattle.org/events/jvna/\n",
      "https://visitseattle.org/events/linda-from-work/\n",
      "https://visitseattle.org/events/the-brother-brothers/\n",
      "https://visitseattle.org/events/the-temptations-the-four-tops/\n",
      "https://visitseattle.org/events/quixote-nuevo/\n",
      "https://visitseattle.org/events/kent-stowells-swan-lake/\n",
      "https://visitseattle.org/events/blood-sweat-and-tears/\n",
      "https://visitseattle.org/events/love-at-the-zoo/\n",
      "https://visitseattle.org/events/scott-bradlees-postmodern-jukebox/\n",
      "https://visitseattle.org/events/tourist-and-amtrac/\n",
      "https://visitseattle.org/events/6th-annual-sami-film-festival/\n",
      "https://visitseattle.org/events/eliades-ochoa/\n",
      "https://visitseattle.org/events/k-wayne-yang/\n",
      "https://visitseattle.org/events/juanes/\n",
      "https://visitseattle.org/events/black-dogs-2/\n",
      "https://visitseattle.org/events/hear-me-talkin-to-you-womxn-and-blues/\n",
      "https://visitseattle.org/events/maddie-zahm/\n",
      "https://visitseattle.org/events/silversun-pickups/\n",
      "https://visitseattle.org/events/the-brodies/\n",
      "https://visitseattle.org/events/cory-wong-winter-2024-tour/\n",
      "https://visitseattle.org/events/left-on-tenth/\n",
      "https://visitseattle.org/events/marlon-wayans/\n",
      "https://visitseattle.org/events/riley-mulherkar-album-release-show/\n",
      "https://visitseattle.org/events/yeah/\n",
      "https://visitseattle.org/events/circahumans-2-0/\n",
      "https://visitseattle.org/events/big-business/\n",
      "https://visitseattle.org/events/david-wax-museum/\n",
      "https://visitseattle.org/events/jon-batiste/\n",
      "https://visitseattle.org/events/lespecial/\n",
      "https://visitseattle.org/events/tobymac-hits-deep-2024/\n",
      "https://visitseattle.org/events/a-case-for-the-existence-of-god/\n",
      "https://visitseattle.org/events/northwest-flower-garden-festival/\n",
      "https://visitseattle.org/events/the-princess-bride-in-concert-with-the-seattle-symphony/\n",
      "https://visitseattle.org/events/mindi-abair-wine-and-jazz-tour-2024/\n",
      "https://visitseattle.org/events/madonna/\n",
      "https://visitseattle.org/events/aqua-fools-day/\n",
      "https://visitseattle.org/events/dr-joy-buolamwini/\n",
      "https://visitseattle.org/events/la-nef-red-sky-at-night/\n",
      "https://visitseattle.org/events/love-beyond-border/\n",
      "https://visitseattle.org/events/meet-the-author-maggie-taft-the-chieftain-and-the-chair/\n",
      "https://visitseattle.org/events/seattle-kraken-vs-detroit-red-wings/\n",
      "https://visitseattle.org/events/the-thrifted/\n",
      "https://visitseattle.org/events/black-and-boujee/\n",
      "https://visitseattle.org/events/from-mozart-to-matthews/\n",
      "https://visitseattle.org/events/lukas-nelson/\n",
      "https://visitseattle.org/events/mahogany-smartfilms-black-luxury/\n",
      "https://visitseattle.org/events/robots-who-paint/\n",
      "https://visitseattle.org/events/trask/\n",
      "https://visitseattle.org/events/wu-han-philip-setzer-david-finckel/\n",
      "https://visitseattle.org/events/the-cookers/\n",
      "https://visitseattle.org/events/cesar-cuauhtemoc-garcia-hernandez/\n",
      "https://visitseattle.org/events/side-by-side-with-seattle-youth-symphony-orchestra/\n",
      "https://visitseattle.org/events/bailen/\n",
      "https://visitseattle.org/events/dr-charan-ranganath/\n",
      "https://visitseattle.org/events/mountain-holler/\n",
      "https://visitseattle.org/events/seattle-kraken-vs-vancouver-canucks/\n",
      "https://visitseattle.org/events/shabaka/\n",
      "https://visitseattle.org/events/funky-friday-with-f2d/\n",
      "https://visitseattle.org/events/blackstar-symphony-the-music-of-david-bowie/\n",
      "https://visitseattle.org/events/caligulas-horse/\n",
      "https://visitseattle.org/events/opera-talk-the-making-of-x/\n",
      "https://visitseattle.org/events/tikkadoom-and-nick-drummond/\n",
      "https://visitseattle.org/events/wreckno/\n",
      "https://visitseattle.org/events/kelly-akashi/\n",
      "https://visitseattle.org/events/the-lower-depths/\n",
      "https://visitseattle.org/events/bassekou-kouyate-and-vieux-farka-toure/\n",
      "https://visitseattle.org/events/crystal-skies/\n",
      "https://visitseattle.org/events/dan-brown-wild-symphony/\n",
      "https://visitseattle.org/events/nate-jackson/\n",
      "https://visitseattle.org/events/pink-sweat/\n",
      "https://visitseattle.org/events/root-and-branch/\n",
      "https://visitseattle.org/events/seattle-kraken-vs-minnesota-wild-2/\n",
      "https://visitseattle.org/events/small-island-big-song/\n",
      "https://visitseattle.org/events/born-with-teeth/\n",
      "https://visitseattle.org/events/once-more-just-for-you/\n",
      "https://visitseattle.org/events/wintergrass-music-festival/\n",
      "https://visitseattle.org/events/klezmer-starts-here-the-music-of-abe-schwartz/\n",
      "https://visitseattle.org/events/telling-the-story/\n",
      "https://visitseattle.org/events/cherry-glazerr/\n",
      "https://visitseattle.org/events/dick-angel-dare-to-do-it/\n",
      "https://visitseattle.org/events/seattle-kraken-vs-boston-bruins/\n",
      "https://visitseattle.org/events/hunt-for-sleeping-giants-national-geographic-live/\n",
      "https://visitseattle.org/events/big-tooth/\n",
      "https://visitseattle.org/events/eric-klinenberg/\n",
      "https://visitseattle.org/events/fresh-dressed-smartfilms-black-luxury/\n",
      "https://visitseattle.org/events/joy-harjo/\n",
      "https://visitseattle.org/events/anand-gopal/\n",
      "https://visitseattle.org/events/dianne-reeves/\n",
      "https://visitseattle.org/events/kassa-overall/\n",
      "https://visitseattle.org/events/playboi-carti/\n",
      "https://visitseattle.org/events/winter-brilliance/\n",
      "https://visitseattle.org/events/seattle-museum-month/\n",
      "https://visitseattle.org/events/jna-and-tavia-rhodes/\n",
      "https://visitseattle.org/events/julian-lage/\n",
      "https://visitseattle.org/events/marchfourth/\n",
      "https://visitseattle.org/events/seattle-kraken-vs-pittsburgh-penguins/\n",
      "https://visitseattle.org/events/the-human-family-2/\n",
      "https://visitseattle.org/events/enjambre/\n",
      "https://visitseattle.org/events/fall-out-boy/\n",
      "https://visitseattle.org/events/global-rhythms-justin-adams-and-mauro-durante/\n",
      "https://visitseattle.org/events/sloane-crosley-with-ben-gibbard/\n",
      "https://visitseattle.org/events/tacoma-stars-vs-harrisburg-heat/\n",
      "https://visitseattle.org/events/tommy-emmanuel/\n",
      "https://visitseattle.org/events/facades/\n",
      "https://visitseattle.org/events/conrad-taos-playlist/\n",
      "https://visitseattle.org/events/crypta/\n",
      "https://visitseattle.org/events/seattle-kraken-vs-edmonton-oilers/\n",
      "https://visitseattle.org/events/seattle-sounders-fc-vs-austin-fc/\n",
      "https://visitseattle.org/events/emerald-city-comic-con/\n",
      "https://visitseattle.org/events/briscoe/\n",
      "https://visitseattle.org/events/tacoma-stars-vs-harrisburg-heat-2/\n",
      "https://visitseattle.org/events/eves-bayou-smartfilms-black-luxury/\n",
      "https://visitseattle.org/events/atlus/\n",
      "https://visitseattle.org/events/calidore-quartet-abeo-quartet/\n",
      "https://visitseattle.org/events/holding-movement/\n",
      "https://visitseattle.org/events/seattle-kraken-vs-winnipeg-jets/\n",
      "https://visitseattle.org/events/xthe-life-and-times-of-malcolm-x/\n",
      "https://visitseattle.org/events/bach-st-john-passion/\n",
      "https://visitseattle.org/events/ariel-pink/\n",
      "https://visitseattle.org/events/helene-grimaud/\n",
      "https://visitseattle.org/events/josiah-and-the-bonnevilles/\n",
      "https://visitseattle.org/events/mahan-esfahan/\n",
      "https://visitseattle.org/events/positive-fragmentation/\n",
      "https://visitseattle.org/events/antonio-m-gomez-lineajes/\n",
      "https://visitseattle.org/events/soren-solkaer-sort-sol/\n",
      "https://visitseattle.org/events/luchadora/\n",
      "https://visitseattle.org/events/wild-cats-revealed-national-geographic-live/\n",
      "https://visitseattle.org/events/seattle-kraken-vs-vegas-golden-knights/\n",
      "https://visitseattle.org/events/seattle-kraken-vs-washington-capitals/\n",
      "https://visitseattle.org/events/autoheart/\n",
      "https://visitseattle.org/events/the-snuts/\n",
      "https://visitseattle.org/events/mark-morris-dance-group-the-look-of-love/\n",
      "https://visitseattle.org/events/sibelius-nielsen/\n",
      "https://visitseattle.org/events/tacoma-stars-vs-chihuahua-savage/\n",
      "https://visitseattle.org/events/seattle-kraken-vs-nashville-predators/\n",
      "https://visitseattle.org/events/seattle-sounders-fc-vs-colorado-rapids/\n",
      "https://visitseattle.org/events/native-portraiture-power-and-perception/\n",
      "https://visitseattle.org/events/places-to-call-home-settlements-in-the-west/\n",
      "https://visitseattle.org/events/nobody-lives-here/\n",
      "https://visitseattle.org/events/rootabaga-country/\n",
      "https://visitseattle.org/events/seattle-kraken-vs-buffalo-sabres/\n",
      "https://visitseattle.org/events/tacoma-stars-vs-empire-strykers-2/\n",
      "https://visitseattle.org/events/somethings-afoot/\n",
      "https://visitseattle.org/events/one-thousand-pieces/\n",
      "https://visitseattle.org/events/simon-trpceski-plays-tchaikovsky/\n",
      "https://visitseattle.org/events/celebrate-holi-spring-festival-of-colors-from-south-asia/\n",
      "https://visitseattle.org/events/seattle-kraken-vs-montreal-canadiens/\n",
      "https://visitseattle.org/events/seattle-kraken-vs-anaheim-ducks/\n",
      "https://visitseattle.org/events/seattle-kraken-vs-anaheim-ducks-2/\n",
      "https://visitseattle.org/events/tim-mcgraw/\n",
      "https://visitseattle.org/events/harold-and-the-purple-crayon/\n",
      "https://visitseattle.org/events/monster-jam/\n",
      "https://visitseattle.org/events/seattle-kraken-vs-dallas-stars/\n",
      "https://visitseattle.org/events/illuminate-glass-art-for-early-learners/\n",
      "https://visitseattle.org/events/al-youngs-1970-dodge-challenger-drag-racer/\n",
      "https://visitseattle.org/events/shine-on-seattle/\n",
      "https://visitseattle.org/events/sanctuary-city/\n",
      "https://visitseattle.org/events/stew/\n",
      "https://visitseattle.org/events/luis-miguel/\n",
      "https://visitseattle.org/events/taylor-raven-and-duke-kim-in-recital/\n",
      "https://visitseattle.org/events/jo-koy/\n",
      "https://visitseattle.org/events/copland-appalachian-spring/\n",
      "https://visitseattle.org/events/seattle-sounders-fc-vs-cf-montreal/\n",
      "https://visitseattle.org/events/tom-segura/\n",
      "https://visitseattle.org/events/la-vaughn-belle-a-history-of-unruly-returns/\n",
      "https://visitseattle.org/events/beetlejuice/\n",
      "https://visitseattle.org/events/seattle-kraken-vs-arizona-coyotes/\n",
      "https://visitseattle.org/events/seattle-kraken-vs-san-jose-sharks/\n",
      "https://visitseattle.org/events/the-percussion-sounds-from-home/\n",
      "https://visitseattle.org/events/honoring-50-years-of-papunya-tula-painting/\n",
      "https://visitseattle.org/events/the-moors/\n",
      "https://visitseattle.org/events/mahler-symphony-no-3/\n",
      "https://visitseattle.org/events/best-of-the-northwest-spring-show/\n",
      "https://visitseattle.org/events/an-evening-with-jinjoo-cho/\n",
      "https://visitseattle.org/events/dvorak-symphony-no-6/\n",
      "https://visitseattle.org/events/seattle-sounders-fc-vs-vancouver-whitecaps-fc-2/\n",
      "https://visitseattle.org/events/the-seasons-canon/\n",
      "https://visitseattle.org/events/drum-tao-30th-anniversary/\n",
      "https://visitseattle.org/events/ajr/\n",
      "https://visitseattle.org/events/disneys-aladdin/\n",
      "https://visitseattle.org/events/antarctic-symphony/\n",
      "https://visitseattle.org/events/noah-gellers-playlist/\n",
      "https://visitseattle.org/events/broadway-spectacular/\n",
      "https://visitseattle.org/events/jessica-jackson-hutchins-wrecked-and-righteous/\n",
      "https://visitseattle.org/events/the-lion-tells-his-tale/\n",
      "https://visitseattle.org/events/seattle-sounders-fc-vs-la-galaxy/\n",
      "https://visitseattle.org/events/melanie-martinez/\n",
      "https://visitseattle.org/events/guma-gela-part-land-part-sea-all-ancestry/\n",
      "https://visitseattle.org/events/jaune-quick-to-see-smith-memory-map/\n",
      "https://visitseattle.org/events/fat-ham/\n",
      "https://visitseattle.org/events/a-tale-of-peter-rabbit/\n",
      "https://visitseattle.org/events/the-lehman-trilogy/\n",
      "https://visitseattle.org/events/the-untold-story-of-sharks-national-geographic-live/\n",
      "https://visitseattle.org/events/seattle-storm-vs-minnesota-lynx/\n",
      "https://visitseattle.org/events/mother/\n",
      "https://visitseattle.org/events/barber-violin-concerto/\n",
      "https://visitseattle.org/events/seattle-sounders-fc-vs-vancouver-whitecaps-fc/\n",
      "https://visitseattle.org/events/seattle-storm-vs-indiana-fever/\n",
      "https://visitseattle.org/events/the-barber-of-seville/\n",
      "https://visitseattle.org/events/seattle-storm-vs-washington-mystics-2/\n",
      "https://visitseattle.org/events/seattle-sounders-fc-vs-real-salt-lake/\n",
      "https://visitseattle.org/events/unriveled/\n",
      "https://visitseattle.org/events/seattle-storm-vs-phoenix-mercury-2/\n",
      "https://visitseattle.org/events/george-balenchines-coppelia/\n",
      "https://visitseattle.org/events/jan-lisiecki-plays-prokofiev/\n",
      "https://visitseattle.org/events/seattle-storm-vs-los-angeles-sparks-2/\n",
      "https://visitseattle.org/events/beethoven-symphony-no-5/\n",
      "https://visitseattle.org/events/elizabeth-malaska-all-be-your-mirror/\n",
      "https://visitseattle.org/events/joshua-bell-plays-elements-concerto/\n",
      "https://visitseattle.org/events/seattle-sounders-fc-vs-minnesota-united-fc/\n",
      "https://visitseattle.org/events/together-again-again/\n",
      "https://visitseattle.org/events/2024-kpmg-womens-pga-championship/\n",
      "https://visitseattle.org/events/lip-sync-for-our-rights/\n",
      "https://visitseattle.org/events/seattle-storm-vs-connecticut-sun/\n",
      "https://visitseattle.org/events/seattle-storm-vs-indiana-fever-2/\n",
      "https://visitseattle.org/events/company/\n",
      "https://visitseattle.org/events/seattle-storm-vs-dallas-wings/\n",
      "https://visitseattle.org/events/sounders-fc-vs-chicago-fire-fc/\n",
      "https://visitseattle.org/events/2024-university-of-washington-mfa-mdes-thesis-exhibition/\n",
      "https://visitseattle.org/events/spring-awakening/\n",
      "https://visitseattle.org/events/girl-from-the-north-country/\n",
      "https://visitseattle.org/events/seattle-storm-vs-dallas-wings-2/\n",
      "https://visitseattle.org/events/seattle-storm-vs-chicago-sky-2/\n",
      "https://visitseattle.org/events/anida-yoeu-ali-hybrid-skin-mythical-presence/\n",
      "https://visitseattle.org/events/seattle-storm-vs-chicago-sky/\n",
      "https://visitseattle.org/events/seattle-storm-vs-las-vegas-aces/\n",
      "https://visitseattle.org/events/seattle-storm-vs-minnesota-lynx-2/\n",
      "https://visitseattle.org/events/seattle-storm-vs-atlanta-dream-2/\n",
      "https://visitseattle.org/events/seattle-sounders-fc-vs-los-angeles-fc/\n",
      "https://visitseattle.org/events/nordic-utopia-african-americans-in-the-20th-century/\n",
      "https://visitseattle.org/events/clue/\n",
      "https://visitseattle.org/events/be-water-my-friend-the-teachings-of-bruce-lee/\n",
      "https://visitseattle.org/events/olivia-rodrigo/\n",
      "https://visitseattle.org/events/seattle-storm-vs-washington-mystics/\n",
      "https://visitseattle.org/events/seattle-storm-vs-atlanta-dream/\n",
      "https://visitseattle.org/events/seattle-storm-vs-new-york-liberty/\n",
      "https://visitseattle.org/events/hidden-worlds-the-films-of-laika/\n",
      "https://visitseattle.org/events/poke-in-the-eye-art-of-the-west-coast-counterculture/\n",
      "https://visitseattle.org/events/chicago-and-earth-wind-fire/\n",
      "https://visitseattle.org/events/seattle-storm-vs-phoenix-mercury/\n",
      "https://visitseattle.org/events/sound-check-the-music-we-make/\n",
      "https://visitseattle.org/events/seattle-sounders-fc-vs-sporting-kansas-city/\n",
      "https://visitseattle.org/events/seattle-storm-vs-los-angeles-sparks/\n",
      "https://visitseattle.org/events/seattle-storm-vs-las-vegas-aces-2/\n",
      "https://visitseattle.org/events/seattle-sounders-fc-vs-san-jose-earthquakes/\n",
      "https://visitseattle.org/events/seatle-sounders-fc-vs-houston-dynamo/\n",
      "https://visitseattle.org/events/raul-de-nieves/\n",
      "https://visitseattle.org/events/seattle-sounders-fc-vs-portland-timbers/\n",
      "https://visitseattle.org/events/sebastian-maniscalco/\n",
      "https://visitseattle.org/events/frye-salon/\n",
      "https://visitseattle.org/events/on-native-land-landscapes-from-the-haub-family-collection/\n",
      "https://visitseattle.org/events/joyce-j-scott-walk-a-mile-in-my-dreams/\n",
      "https://visitseattle.org/events/washi-transformed-new-expressions-in-japanese-paper/\n",
      "https://visitseattle.org/events/explore-the-market/\n",
      "https://visitseattle.org/events/olympic-sculpture-park/\n",
      "https://visitseattle.org/events/infinite-worlds-of-science-fiction/\n",
      "https://visitseattle.org/events/wild-blue-angel-hendrix-abroad-1966-70/\n"
     ]
    }
   ],
   "source": [
    "## Print out the list\n",
    "for link in detail_links:\n",
    "    print(link)"
   ]
  },
  {
   "cell_type": "markdown",
   "metadata": {},
   "source": [
    "## Scrape Detail Page"
   ]
  },
  {
   "cell_type": "code",
   "execution_count": 5,
   "metadata": {},
   "outputs": [
    {
     "name": "stdout",
     "output_type": "stream",
     "text": [
      "['John Cole & Peter de Lory', 'The Puppet Masters: Making Fools of Us All', 'Whim W’him: Winter 24', 'Compania Nacional de Danza', 'Metropolis', 'Andy Coe Band', 'Align', 'Billy Idol and Duran Duran Tribute Night', 'Crack Sabbath', 'Harlem Globetrotters', 'Inked Up: Conversation with John Ellis', 'Jukebox Quartet: Arcobaleno Strings', 'Pike Place Market: Local Appreciation Day', 'Seattle Baroque Orchestra: Party Bohemienne', 'Seattle Thunderbirds vs. Everett Silvertips', 'The Budos Band', 'The Human Family', 'Steinunn Porarinsdottir: Wayfinders']\n"
     ]
    }
   ],
   "source": [
    "\n",
    "base_url = 'https://visitseattle.org/events/page/'\n",
    "\n",
    "# for i in range(1, 3):\n",
    "#     url = base_url + str(i)\n",
    "#     res = requests.get(url)\n",
    "#     soup = BeautifulSoup(res.text, 'html.parser')\n",
    "\n",
    "#     selector = 'div.search-result-preview > div > h3 > a'\n",
    "#     detail_eles = soup.select(selector)\n",
    "#     # detail_list.append([x['href'] for x in detail_eles])\n",
    "#     for ele in detail_eles:\n",
    "#         detail_links.append(ele['href'])\n",
    "\n",
    "# detail_url = 'https://visitseattle.org/events/'\n",
    "event_list = []\n",
    "\n",
    "for i in range(1, 3):\n",
    "    # url = detail_url + str(i)\n",
    "    url = base_url + str(i)\n",
    "    res = requests.get(url)\n",
    "    soup = BeautifulSoup(res.text, 'html.parser')\n",
    "    selector = 'div.search-result-preview > div > h3 > a'\n",
    "    event_eles = soup.select(selector)\n",
    "\n",
    "    for eles in event_eles:\n",
    "        event_list.append(eles.text.strip())\n",
    "    time.sleep(1) \n",
    "\n",
    "print(event_list)\n",
    "\n",
    "    "
   ]
  },
  {
   "cell_type": "code",
   "execution_count": 81,
   "metadata": {},
   "outputs": [
    {
     "ename": "AttributeError",
     "evalue": "'list' object has no attribute 'replace'",
     "output_type": "error",
     "traceback": [
      "\u001b[0;31m---------------------------------------------------------------------------\u001b[0m",
      "\u001b[0;31mAttributeError\u001b[0m                            Traceback (most recent call last)",
      "\u001b[0;32m/var/folders/6r/f2pyhzj53_l9xhxb6vgtq3940000gn/T/ipykernel_19074/2301387239.py\u001b[0m in \u001b[0;36m<module>\u001b[0;34m\u001b[0m\n\u001b[0;32m----> 1\u001b[0;31m \u001b[0mevent_list_new\u001b[0m \u001b[0;34m=\u001b[0m \u001b[0;34m[\u001b[0m\u001b[0mevent_list\u001b[0m\u001b[0;34m.\u001b[0m\u001b[0mreplace\u001b[0m\u001b[0;34m(\u001b[0m\u001b[0;34m' '\u001b[0m\u001b[0;34m,\u001b[0m \u001b[0;34m'-'\u001b[0m\u001b[0;34m)\u001b[0m \u001b[0;32mfor\u001b[0m \u001b[0me\u001b[0m \u001b[0;32min\u001b[0m \u001b[0mevent_list\u001b[0m\u001b[0;34m]\u001b[0m\u001b[0;34m\u001b[0m\u001b[0;34m\u001b[0m\u001b[0m\n\u001b[0m\u001b[1;32m      2\u001b[0m \u001b[0mevent_list_new\u001b[0m\u001b[0;34m\u001b[0m\u001b[0;34m\u001b[0m\u001b[0m\n",
      "\u001b[0;32m/var/folders/6r/f2pyhzj53_l9xhxb6vgtq3940000gn/T/ipykernel_19074/2301387239.py\u001b[0m in \u001b[0;36m<listcomp>\u001b[0;34m(.0)\u001b[0m\n\u001b[0;32m----> 1\u001b[0;31m \u001b[0mevent_list_new\u001b[0m \u001b[0;34m=\u001b[0m \u001b[0;34m[\u001b[0m\u001b[0mevent_list\u001b[0m\u001b[0;34m.\u001b[0m\u001b[0mreplace\u001b[0m\u001b[0;34m(\u001b[0m\u001b[0;34m' '\u001b[0m\u001b[0;34m,\u001b[0m \u001b[0;34m'-'\u001b[0m\u001b[0;34m)\u001b[0m \u001b[0;32mfor\u001b[0m \u001b[0me\u001b[0m \u001b[0;32min\u001b[0m \u001b[0mevent_list\u001b[0m\u001b[0;34m]\u001b[0m\u001b[0;34m\u001b[0m\u001b[0;34m\u001b[0m\u001b[0m\n\u001b[0m\u001b[1;32m      2\u001b[0m \u001b[0mevent_list_new\u001b[0m\u001b[0;34m\u001b[0m\u001b[0;34m\u001b[0m\u001b[0m\n",
      "\u001b[0;31mAttributeError\u001b[0m: 'list' object has no attribute 'replace'"
     ]
    }
   ],
   "source": [
    "event_list_new = [event_list.replace(' ', '-') for e in event_list]\n",
    "event_list_new "
   ]
  },
  {
   "cell_type": "code",
   "execution_count": 76,
   "metadata": {},
   "outputs": [
    {
     "name": "stdout",
     "output_type": "stream",
     "text": [
      "https://visitseattle.org/events/BrandonLee Cierley \n",
      "https://visitseattle.org/events/David Ward \n",
      "https://visitseattle.org/events/Dungeons and Drag Queens \n",
      "https://visitseattle.org/events/Global Rhythms: Yungchen Lhamo \n",
      "https://visitseattle.org/events/Harlem Globetrotters 2024 World Tour – \n",
      "https://visitseattle.org/events/Seattle Kraken vs. St. Louis Blues \n",
      "https://visitseattle.org/events/Shelf Nunny \n",
      "https://visitseattle.org/events/Super Diamond – The Neil Diamond Tribute Band \n",
      "https://visitseattle.org/events/The Disorderlies \n",
      "https://visitseattle.org/events/John Cole & Peter de Lory \n",
      "https://visitseattle.org/events/The Puppet Masters: Making Fools of Us All \n",
      "https://visitseattle.org/events/Whim W’him: Winter 24 \n",
      "https://visitseattle.org/events/Compania Nacional de Danza \n",
      "https://visitseattle.org/events/Metropolis \n",
      "https://visitseattle.org/events/Andy Coe Band \n",
      "https://visitseattle.org/events/Align \n",
      "https://visitseattle.org/events/Billy Idol and Duran Duran Tribute Night \n",
      "https://visitseattle.org/events/Crack Sabbath \n"
     ]
    }
   ],
   "source": [
    "detail_url = 'https://visitseattle.org/events/'\n",
    "Event_Page_list = []\n",
    "\n",
    "for event in event_list:\n",
    "    url = detail_url + str(event)\n",
    "    print(url)\n"
   ]
  },
  {
   "cell_type": "code",
   "execution_count": 75,
   "metadata": {},
   "outputs": [
    {
     "data": {
      "text/plain": [
       "18"
      ]
     },
     "execution_count": 75,
     "metadata": {},
     "output_type": "execute_result"
    }
   ],
   "source": [
    "len(event_list)"
   ]
  },
  {
   "cell_type": "code",
   "execution_count": null,
   "metadata": {},
   "outputs": [],
   "source": []
  },
  {
   "cell_type": "code",
   "execution_count": 15,
   "metadata": {},
   "outputs": [
    {
     "data": {
      "text/plain": [
       "108299"
      ]
     },
     "execution_count": 15,
     "metadata": {},
     "output_type": "execute_result"
    }
   ],
   "source": [
    "url = 'https://visitseattle.org/events/dungeons-and-drag-queens/'\n",
    "res = requests.get(url)\n",
    "open('eventpage.html', 'w').write(res.text)"
   ]
  },
  {
   "cell_type": "code",
   "execution_count": 16,
   "metadata": {},
   "outputs": [],
   "source": [
    "soup = BeautifulSoup(res.text, 'html.parser')"
   ]
  },
  {
   "cell_type": "code",
   "execution_count": 17,
   "metadata": {},
   "outputs": [
    {
     "data": {
      "text/plain": [
       "[]"
      ]
     },
     "execution_count": 17,
     "metadata": {},
     "output_type": "execute_result"
    }
   ],
   "source": [
    "selector = 'div.search-result-preview > div > h3 > a'\n",
    "event_name = soup.select(selector)\n",
    "event_name\n"
   ]
  },
  {
   "cell_type": "code",
   "execution_count": 35,
   "metadata": {},
   "outputs": [
    {
     "name": "stdout",
     "output_type": "stream",
     "text": [
      "Dungeons and Drag Queens\n",
      "1/26/2024\n"
     ]
    }
   ],
   "source": [
    "name_selector = '.medium-6.columns.event-top > h1'\n",
    "date_selector = '.medium-6.columns.event-top > h4 > span:nth-child(1)'\n",
    "location_selector = '.medium-6.columns.event-top > h4 > span:nth-child(2)'\n",
    "type_selector = '.medium-6.columns.event-top > a:nth-child(3)'\n",
    "region = '.medium-6.columns.event-top > a:nth-child(4)'\n",
    "\n",
    "name = soup.select(name_selector)\n",
    "print(name[0].text)\n",
    "date = soup.select(date_selector)\n",
    "print(date[0].text)"
   ]
  },
  {
   "cell_type": "code",
   "execution_count": 2,
   "metadata": {},
   "outputs": [
    {
     "name": "stdout",
     "output_type": "stream",
     "text": [
      "https://visitseattle.org/events/page/1\n",
      "https://visitseattle.org/events/page/2\n",
      "https://visitseattle.org/events/page/3\n",
      "https://visitseattle.org/events/page/4\n",
      "https://visitseattle.org/events/page/5\n",
      "https://visitseattle.org/events/page/6\n",
      "https://visitseattle.org/events/page/7\n",
      "https://visitseattle.org/events/page/8\n",
      "https://visitseattle.org/events/page/9\n",
      "https://visitseattle.org/events/page/10\n",
      "https://visitseattle.org/events/page/11\n",
      "https://visitseattle.org/events/page/12\n",
      "https://visitseattle.org/events/page/13\n",
      "https://visitseattle.org/events/page/14\n",
      "https://visitseattle.org/events/page/15\n",
      "https://visitseattle.org/events/page/16\n",
      "https://visitseattle.org/events/page/17\n",
      "https://visitseattle.org/events/page/18\n",
      "https://visitseattle.org/events/page/19\n",
      "https://visitseattle.org/events/page/20\n",
      "https://visitseattle.org/events/page/21\n",
      "https://visitseattle.org/events/page/22\n",
      "https://visitseattle.org/events/page/23\n",
      "https://visitseattle.org/events/page/24\n",
      "https://visitseattle.org/events/page/25\n",
      "https://visitseattle.org/events/page/26\n",
      "https://visitseattle.org/events/page/27\n",
      "https://visitseattle.org/events/page/28\n",
      "https://visitseattle.org/events/page/29\n",
      "https://visitseattle.org/events/page/30\n",
      "https://visitseattle.org/events/page/31\n",
      "https://visitseattle.org/events/page/32\n",
      "https://visitseattle.org/events/page/33\n",
      "https://visitseattle.org/events/page/34\n",
      "https://visitseattle.org/events/page/35\n",
      "https://visitseattle.org/events/page/36\n",
      "https://visitseattle.org/events/page/37\n",
      "https://visitseattle.org/events/page/38\n",
      "https://visitseattle.org/events/page/39\n",
      "https://visitseattle.org/events/page/40\n",
      "https://visitseattle.org/events/page/41\n"
     ]
    }
   ],
   "source": [
    "base_url = 'https://visitseattle.org/events/page/'\n",
    "\n",
    "for page_num in range(1, 42):  # Loop from 1 to 41\n",
    "    url = base_url + str(page_num)\n",
    "    print(url)\n"
   ]
  },
  {
   "cell_type": "code",
   "execution_count": 8,
   "metadata": {},
   "outputs": [
    {
     "data": {
      "text/plain": [
       "182170"
      ]
     },
     "execution_count": 8,
     "metadata": {},
     "output_type": "execute_result"
    }
   ],
   "source": [
    "\n",
    "\n",
    "url = 'https://visitseattle.org/events/page/{}'.format(page)\n",
    "res = requests.get(url)\n",
    "open('eventpage.html', 'w').write(res.text)"
   ]
  },
  {
   "cell_type": "code",
   "execution_count": 9,
   "metadata": {},
   "outputs": [
    {
     "data": {
      "text/plain": [
       "[<a href=\"https://visitseattle.org/events/dinosaur-jr/\" title=\"Dinosaur Jr.\">Dinosaur Jr. </a>,\n",
       " <a href=\"https://visitseattle.org/events/black-dogs/\" title=\"Black Dogs\">Black Dogs </a>,\n",
       " <a href=\"https://visitseattle.org/events/blue-elephant-and-the-seven-snakes/\" title=\"Blue Elephant and The Seven Snakes\">Blue Elephant and The Seven Snakes </a>,\n",
       " <a href=\"https://visitseattle.org/events/brock-lanzetti-ogawa/\" title=\"Brock, Lanzetti, Ogawa\">Brock, Lanzetti, Ogawa </a>,\n",
       " <a href=\"https://visitseattle.org/events/fact-and-fiction-the-lord-of-the-rings/\" title=\"Fact and Fiction: The Lord of the Rings\">Fact and Fiction: The Lord of the Rings </a>,\n",
       " <a href=\"https://visitseattle.org/events/groundation/\" title=\"Groundation\">Groundation </a>,\n",
       " <a href=\"https://visitseattle.org/events/kayla-min-andrews/\" title=\"Kayla Min Andrews\">Kayla Min Andrews </a>,\n",
       " <a href=\"https://visitseattle.org/events/ol-doris/\" title=\"Ol Doris\">Ol Doris </a>,\n",
       " <a href=\"https://visitseattle.org/events/rosetan/\" title=\"Rosetan\">Rosetan </a>]"
      ]
     },
     "execution_count": 9,
     "metadata": {},
     "output_type": "execute_result"
    }
   ],
   "source": [
    "soup = BeautifulSoup(res.text, 'html.parser')\n",
    "selector = 'div.search-result-preview > div > h3 > a'\n",
    "a_eles = soup.select(selector)\n",
    "a_eles"
   ]
  },
  {
   "cell_type": "code",
   "execution_count": 10,
   "metadata": {},
   "outputs": [
    {
     "name": "stdout",
     "output_type": "stream",
     "text": [
      "\n",
      "\n",
      "\n",
      "\n",
      "\n",
      "\n",
      "\n",
      "\n",
      "\n"
     ]
    }
   ],
   "source": [
    "for x in a_eles:\n",
    "    print()"
   ]
  },
  {
   "cell_type": "code",
   "execution_count": null,
   "metadata": {},
   "outputs": [],
   "source": []
  }
 ],
 "metadata": {
  "kernelspec": {
   "display_name": "Python 3",
   "language": "python",
   "name": "python3"
  },
  "language_info": {
   "codemirror_mode": {
    "name": "ipython",
    "version": 3
   },
   "file_extension": ".py",
   "mimetype": "text/x-python",
   "name": "python",
   "nbconvert_exporter": "python",
   "pygments_lexer": "ipython3",
   "version": "3.9.13"
  }
 },
 "nbformat": 4,
 "nbformat_minor": 2
}
