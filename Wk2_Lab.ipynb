{
 "cells": [
  {
   "cell_type": "code",
   "execution_count": 12,
   "metadata": {},
   "outputs": [],
   "source": [
    "import requests\n",
    "from bs4 import BeautifulSoup\n",
    "import time\n",
    "import numpy"
   ]
  },
  {
   "cell_type": "code",
   "execution_count": 14,
   "metadata": {},
   "outputs": [
    {
     "name": "stdout",
     "output_type": "stream",
     "text": [
      "https://visitseattle.org/events/page/1\n",
      "https://visitseattle.org/events/page/2\n",
      "https://visitseattle.org/events/page/3\n",
      "https://visitseattle.org/events/page/4\n",
      "https://visitseattle.org/events/page/5\n",
      "https://visitseattle.org/events/page/6\n",
      "https://visitseattle.org/events/page/7\n",
      "https://visitseattle.org/events/page/8\n",
      "https://visitseattle.org/events/page/9\n",
      "https://visitseattle.org/events/page/10\n",
      "https://visitseattle.org/events/page/11\n",
      "https://visitseattle.org/events/page/12\n",
      "https://visitseattle.org/events/page/13\n",
      "https://visitseattle.org/events/page/14\n",
      "https://visitseattle.org/events/page/15\n",
      "https://visitseattle.org/events/page/16\n",
      "https://visitseattle.org/events/page/17\n",
      "https://visitseattle.org/events/page/18\n",
      "https://visitseattle.org/events/page/19\n",
      "https://visitseattle.org/events/page/20\n",
      "https://visitseattle.org/events/page/21\n",
      "https://visitseattle.org/events/page/22\n",
      "https://visitseattle.org/events/page/23\n",
      "https://visitseattle.org/events/page/24\n",
      "https://visitseattle.org/events/page/25\n",
      "https://visitseattle.org/events/page/26\n",
      "https://visitseattle.org/events/page/27\n",
      "https://visitseattle.org/events/page/28\n",
      "https://visitseattle.org/events/page/29\n",
      "https://visitseattle.org/events/page/30\n",
      "https://visitseattle.org/events/page/31\n",
      "https://visitseattle.org/events/page/32\n",
      "https://visitseattle.org/events/page/33\n",
      "https://visitseattle.org/events/page/34\n",
      "https://visitseattle.org/events/page/35\n",
      "https://visitseattle.org/events/page/36\n",
      "https://visitseattle.org/events/page/37\n",
      "https://visitseattle.org/events/page/38\n",
      "https://visitseattle.org/events/page/39\n",
      "https://visitseattle.org/events/page/40\n",
      "https://visitseattle.org/events/page/41\n"
     ]
    }
   ],
   "source": [
    "page_list = numpy.arange(1,15,1)\n",
    "page_list\n",
    "\n",
    "base_url = 'https://visitseattle.org/events/page/'\n",
    "\n",
    "for page_num in range(1, 42):  # Loop from 1 to 41\n",
    "    url = base_url + str(page_num)\n",
    "    print(url)\n"
   ]
  },
  {
   "cell_type": "code",
   "execution_count": 8,
   "metadata": {},
   "outputs": [
    {
     "data": {
      "text/plain": [
       "182170"
      ]
     },
     "execution_count": 8,
     "metadata": {},
     "output_type": "execute_result"
    }
   ],
   "source": [
    "\n",
    "\n",
    "url = 'https://visitseattle.org/events/page/{}'.format(page)\n",
    "res = requests.get(url)\n",
    "open('eventpage.html', 'w').write(res.text)"
   ]
  },
  {
   "cell_type": "code",
   "execution_count": 9,
   "metadata": {},
   "outputs": [
    {
     "data": {
      "text/plain": [
       "[<a href=\"https://visitseattle.org/events/dinosaur-jr/\" title=\"Dinosaur Jr.\">Dinosaur Jr. </a>,\n",
       " <a href=\"https://visitseattle.org/events/black-dogs/\" title=\"Black Dogs\">Black Dogs </a>,\n",
       " <a href=\"https://visitseattle.org/events/blue-elephant-and-the-seven-snakes/\" title=\"Blue Elephant and The Seven Snakes\">Blue Elephant and The Seven Snakes </a>,\n",
       " <a href=\"https://visitseattle.org/events/brock-lanzetti-ogawa/\" title=\"Brock, Lanzetti, Ogawa\">Brock, Lanzetti, Ogawa </a>,\n",
       " <a href=\"https://visitseattle.org/events/fact-and-fiction-the-lord-of-the-rings/\" title=\"Fact and Fiction: The Lord of the Rings\">Fact and Fiction: The Lord of the Rings </a>,\n",
       " <a href=\"https://visitseattle.org/events/groundation/\" title=\"Groundation\">Groundation </a>,\n",
       " <a href=\"https://visitseattle.org/events/kayla-min-andrews/\" title=\"Kayla Min Andrews\">Kayla Min Andrews </a>,\n",
       " <a href=\"https://visitseattle.org/events/ol-doris/\" title=\"Ol Doris\">Ol Doris </a>,\n",
       " <a href=\"https://visitseattle.org/events/rosetan/\" title=\"Rosetan\">Rosetan </a>]"
      ]
     },
     "execution_count": 9,
     "metadata": {},
     "output_type": "execute_result"
    }
   ],
   "source": [
    "soup = BeautifulSoup(res.text, 'html.parser')\n",
    "selector = 'div.search-result-preview > div > h3 > a'\n",
    "a_eles = soup.select(selector)\n",
    "a_eles"
   ]
  },
  {
   "cell_type": "code",
   "execution_count": 10,
   "metadata": {},
   "outputs": [
    {
     "name": "stdout",
     "output_type": "stream",
     "text": [
      "\n",
      "\n",
      "\n",
      "\n",
      "\n",
      "\n",
      "\n",
      "\n",
      "\n"
     ]
    }
   ],
   "source": [
    "for x in a_eles:\n",
    "    print()"
   ]
  },
  {
   "cell_type": "code",
   "execution_count": null,
   "metadata": {},
   "outputs": [],
   "source": []
  }
 ],
 "metadata": {
  "kernelspec": {
   "display_name": "base",
   "language": "python",
   "name": "python3"
  },
  "language_info": {
   "codemirror_mode": {
    "name": "ipython",
    "version": 3
   },
   "file_extension": ".py",
   "mimetype": "text/x-python",
   "name": "python",
   "nbconvert_exporter": "python",
   "pygments_lexer": "ipython3",
   "version": "3.9.13"
  }
 },
 "nbformat": 4,
 "nbformat_minor": 2
}
