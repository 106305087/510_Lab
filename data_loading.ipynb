{
 "cells": [
  {
   "cell_type": "code",
   "execution_count": 15,
   "metadata": {},
   "outputs": [],
   "source": [
    "import sqlite3\n",
    "con = sqlite3.connect('week3.sqlite', isolation_level=None)\n",
    "cur = con.cursor()"
   ]
  },
  {
   "cell_type": "code",
   "execution_count": 16,
   "metadata": {},
   "outputs": [
    {
     "data": {
      "text/plain": [
       "<sqlite3.Cursor at 0x110c13810>"
      ]
     },
     "execution_count": 16,
     "metadata": {},
     "output_type": "execute_result"
    }
   ],
   "source": [
    "cur.execute(\"\"\"DROP TABLE IF EXISTS movies\"\"\")\n",
    "\n",
    "# Take "
   ]
  },
  {
   "cell_type": "code",
   "execution_count": 17,
   "metadata": {},
   "outputs": [
    {
     "data": {
      "text/plain": [
       "<sqlite3.Cursor at 0x110c13810>"
      ]
     },
     "execution_count": 17,
     "metadata": {},
     "output_type": "execute_result"
    }
   ],
   "source": [
    "q = \"\"\"\n",
    "CREATE TABLE IF NOT EXISTS movies (\n",
    "    id INTEGER PRIMARY KEY,\n",
    "    title TEXT,\n",
    "    year INTEGER,\n",
    "    rating FLOAT,\n",
    "    is_watched BOOLEAN DEFAULT 0,\n",
    "    created_at DATETIME DEFAULT CURRENT_TIMESTAMP,\n",
    "    updated_at DATETIME DEFAULT CURRENT_TIMESTAMP\n",
    ")\n",
    "\"\"\"\n",
    "cur.execute(q)"
   ]
  },
  {
   "cell_type": "code",
   "execution_count": 18,
   "metadata": {},
   "outputs": [],
   "source": [
    "# Check if the table is created\n",
    "\n",
    "q = \"\"\"\n",
    "SELECT\n",
    "    name\n",
    "FROM\n",
    "    sqlite_master\n",
    "\"\"\"\n",
    "\n",
    "res = cur.execute(q)"
   ]
  },
  {
   "cell_type": "code",
   "execution_count": 19,
   "metadata": {},
   "outputs": [
    {
     "data": {
      "text/plain": [
       "('movies',)"
      ]
     },
     "execution_count": 19,
     "metadata": {},
     "output_type": "execute_result"
    }
   ],
   "source": [
    "# Fetch the first row\n",
    "res.fetchone()\n",
    "\n",
    "# Fetch all\n",
    "#res.fetchall()"
   ]
  },
  {
   "cell_type": "code",
   "execution_count": 20,
   "metadata": {},
   "outputs": [
    {
     "data": {
      "text/plain": [
       "[]"
      ]
     },
     "execution_count": 20,
     "metadata": {},
     "output_type": "execute_result"
    }
   ],
   "source": [
    "q = \"\"\"\n",
    "SELECT\n",
    "    *\n",
    "FROM\n",
    "    movies\n",
    "\"\"\"\n",
    "\n",
    "res = cur.execute(q)\n",
    "res.fetchall()"
   ]
  },
  {
   "cell_type": "code",
   "execution_count": 22,
   "metadata": {},
   "outputs": [
    {
     "data": {
      "text/plain": [
       "<sqlite3.Cursor at 0x110c13810>"
      ]
     },
     "execution_count": 22,
     "metadata": {},
     "output_type": "execute_result"
    }
   ],
   "source": [
    "q = \"\"\"\n",
    "INSERT INTO movies(\n",
    "    title,\n",
    "    year,\n",
    "    rating\n",
    ") VALUES (\n",
    "    'The Matrix', \n",
    "    1999, \n",
    "    5.0\n",
    ")\n",
    "\"\"\"\n",
    "\n",
    "cur.execute(q)"
   ]
  },
  {
   "cell_type": "code",
   "execution_count": 23,
   "metadata": {},
   "outputs": [
    {
     "data": {
      "text/plain": [
       "<sqlite3.Cursor at 0x110c13810>"
      ]
     },
     "execution_count": 23,
     "metadata": {},
     "output_type": "execute_result"
    }
   ],
   "source": [
    "q = \"\"\"\n",
    "INSERT INTO \n",
    "    movies(\n",
    "        title,\n",
    "        year,\n",
    "        rating\n",
    "    ) VALUES (?,?,?)\n",
    "\"\"\"\n",
    "\n",
    "cur.execute(\n",
    "    q,\n",
    "    ['The Matirx_NEW', 1998, 10.0]\n",
    ")"
   ]
  },
  {
   "cell_type": "code",
   "execution_count": null,
   "metadata": {},
   "outputs": [],
   "source": [
    "[x for x in cur.execute(\"\"\"sele\"\"\")]\n",
    "\n",
    "# cursor can go down one by one\n",
    "                        "
   ]
  },
  {
   "cell_type": "code",
   "execution_count": 27,
   "metadata": {},
   "outputs": [
    {
     "name": "stdout",
     "output_type": "stream",
     "text": [
      "(1, 'The Matrix', 1999, 5.0, 0, '2024-01-23 23:25:14', '2024-01-23 23:25:14')\n",
      "(2, 'The Matrix', 1999, 5.0, 0, '2024-01-23 23:26:58', '2024-01-23 23:26:58')\n",
      "(3, 'The Matirx_NEW', 1998, 10.0, 0, '2024-01-23 23:32:18', '2024-01-23 23:32:18')\n"
     ]
    }
   ],
   "source": [
    "res = cur.execute(\"\"\"SELECT * FROM movies\"\"\")\n",
    "#res.fetchall()\n",
    "# fetchall: get all the table in your Python memory as a list\n",
    "\n",
    "# Cursor for loop method\n",
    "for row in res:\n",
    "    print(row)\n",
    "# Can iterate the data line by line with cursor, load one line at a time\n"
   ]
  },
  {
   "cell_type": "code",
   "execution_count": null,
   "metadata": {},
   "outputs": [],
   "source": [
    "# Insert lots of data\n",
    "\n",
    "q = \"\"\"\n",
    "INSERT INTO movies(\n",
    "    title,\n",
    "    year,\n",
    "    rating\n",
    ") VALUES (\n",
    "    ?, \n",
    "    ?, \n",
    "    ?\n",
    ")\n",
    "\"\"\"\n",
    "\n",
    "\n",
    "data = [\n",
    "    ['The', 199, 5.0],\n",
    "]\n",
    "\n",
    "cur.execute(q)"
   ]
  },
  {
   "cell_type": "code",
   "execution_count": 31,
   "metadata": {},
   "outputs": [
    {
     "data": {
      "text/plain": [
       "<sqlite3.Cursor at 0x110c13810>"
      ]
     },
     "execution_count": 31,
     "metadata": {},
     "output_type": "execute_result"
    }
   ],
   "source": [
    "# Insert bulk of data in smarter way\n",
    "\n",
    "data = [\n",
    "    ('January', 1999, 1.0),\n",
    "    ('Feb', 2000, 1.0),\n",
    "    ('Mar', 2001, 1.0)\n",
    "]\n",
    "\n",
    "cur.executemany(\n",
    "    \"INSERT INTO movies(title, year, rating) VALUES(?,?,?)\",\n",
    "    data\n",
    ")"
   ]
  },
  {
   "cell_type": "code",
   "execution_count": 30,
   "metadata": {},
   "outputs": [
    {
     "ename": "ModuleNotFoundError",
     "evalue": "No module named 'pandas'",
     "output_type": "error",
     "traceback": [
      "\u001b[0;31m---------------------------------------------------------------------------\u001b[0m",
      "\u001b[0;31mModuleNotFoundError\u001b[0m                       Traceback (most recent call last)",
      "Cell \u001b[0;32mIn [30], line 1\u001b[0m\n\u001b[0;32m----> 1\u001b[0m \u001b[38;5;28;01mimport\u001b[39;00m \u001b[38;5;21;01mpandas\u001b[39;00m \u001b[38;5;28;01mas\u001b[39;00m \u001b[38;5;21;01mpd\u001b[39;00m\n",
      "\u001b[0;31mModuleNotFoundError\u001b[0m: No module named 'pandas'"
     ]
    }
   ],
   "source": [
    "import pandas as pd"
   ]
  },
  {
   "cell_type": "code",
   "execution_count": null,
   "metadata": {},
   "outputs": [],
   "source": [
    "data = [\n",
    "    {'name': \"Concert\"},\n",
    "    {'name': \"Beer\"},\n",
    "    {'name': \"Ian\"},\n",
    "    {'name': \"Flower\"},\n",
    "\n",
    "]"
   ]
  }
 ],
 "metadata": {
  "kernelspec": {
   "display_name": "Python 3",
   "language": "python",
   "name": "python3"
  },
  "language_info": {
   "codemirror_mode": {
    "name": "ipython",
    "version": 3
   },
   "file_extension": ".py",
   "mimetype": "text/x-python",
   "name": "python",
   "nbconvert_exporter": "python",
   "pygments_lexer": "ipython3",
   "version": "3.8.12"
  }
 },
 "nbformat": 4,
 "nbformat_minor": 2
}
